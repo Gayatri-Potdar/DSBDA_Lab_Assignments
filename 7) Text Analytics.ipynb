{
  "cells": [
    {
      "cell_type": "markdown",
      "metadata": {},
      "source": [
        "7) Text Analytics\n",
        "1. Extract Sample document and apply following document preprocessing methods:\n",
        "Tokenization, POS Tagging, stop words removal, Stemming and Lemmatization.\n",
        "2. Create representation of document by calculating Term Frequency and Inverse Document\n",
        "Frequency "
      ]
    },
    {
      "cell_type": "code",
      "execution_count": 1,
      "metadata": {
        "id": "0njPY2P_qXqF"
      },
      "outputs": [],
      "source": [
        "# ------------------------\n",
        "# 📚 1. Import Required Libraries\n",
        "# ------------------------\n",
        "\n",
        "import nltk\n",
        "import re\n",
        "import pandas as pd\n",
        "from nltk.tokenize import sent_tokenize, word_tokenize\n",
        "from nltk.corpus import stopwords\n",
        "from nltk.stem import PorterStemmer, WordNetLemmatizer\n",
        "from sklearn.feature_extraction.text import TfidfVectorizer"
      ]
    },
    {
      "cell_type": "code",
      "execution_count": 2,
      "metadata": {
        "colab": {
          "base_uri": "https://localhost:8080/"
        },
        "id": "90ztvb3mqqWF",
        "outputId": "e5f70075-c8a6-40dd-913d-ff336882120a"
      },
      "outputs": [
        {
          "name": "stderr",
          "output_type": "stream",
          "text": [
            "[nltk_data] Downloading package punkt_tab to\n",
            "[nltk_data]     C:\\Users\\kedar\\AppData\\Roaming\\nltk_data...\n",
            "[nltk_data]   Package punkt_tab is already up-to-date!\n",
            "[nltk_data] Downloading package stopwords to\n",
            "[nltk_data]     C:\\Users\\kedar\\AppData\\Roaming\\nltk_data...\n",
            "[nltk_data]   Package stopwords is already up-to-date!\n",
            "[nltk_data] Downloading package wordnet to\n",
            "[nltk_data]     C:\\Users\\kedar\\AppData\\Roaming\\nltk_data...\n",
            "[nltk_data]   Package wordnet is already up-to-date!\n",
            "[nltk_data] Downloading package averaged_perceptron_tagger_eng to\n",
            "[nltk_data]     C:\\Users\\kedar\\AppData\\Roaming\\nltk_data...\n",
            "[nltk_data]   Unzipping taggers\\averaged_perceptron_tagger_eng.zip.\n"
          ]
        },
        {
          "data": {
            "text/plain": [
              "True"
            ]
          },
          "execution_count": 2,
          "metadata": {},
          "output_type": "execute_result"
        }
      ],
      "source": [
        "# Download NLTK resources (in Colab, this is quick and necessary)\n",
        "nltk.download('punkt_tab')\n",
        "# if not worked use : nltk.download('punkt')\n",
        "nltk.download('stopwords')\n",
        "nltk.download('wordnet')\n",
        "nltk.download('averaged_perceptron_tagger_eng')\n",
        "# if not worked use : nltk.download('averaged_perceptron_tagger')"
      ]
    },
    {
      "cell_type": "markdown",
      "metadata": {
        "id": "OD8SZXD4zftU"
      },
      "source": []
    },
    {
      "cell_type": "code",
      "execution_count": 3,
      "metadata": {
        "id": "47wX6KR3qtRS"
      },
      "outputs": [],
      "source": [
        "# ------------------------\n",
        "# 📚 2. Sample Text for Preprocessing\n",
        "# ------------------------\n",
        "\n",
        "text = \"\"\"Tokenization is the first step in text analytics.\n",
        "The process of breaking down a text paragraph into smaller chunks such as words or sentences is called Tokenization.\"\"\""
      ]
    },
    {
      "cell_type": "code",
      "execution_count": 4,
      "metadata": {
        "colab": {
          "base_uri": "https://localhost:8080/"
        },
        "id": "4or5vjFZqw82",
        "outputId": "d4d890e7-3baf-4c1e-cd89-7943eea19041"
      },
      "outputs": [
        {
          "name": "stdout",
          "output_type": "stream",
          "text": [
            "Original Text:\n",
            " Tokenization is the first step in text analytics.\n",
            "The process of breaking down a text paragraph into smaller chunks such as words or sentences is called Tokenization.\n"
          ]
        }
      ],
      "source": [
        "print(\"Original Text:\\n\", text)"
      ]
    },
    {
      "cell_type": "code",
      "execution_count": 5,
      "metadata": {
        "colab": {
          "base_uri": "https://localhost:8080/"
        },
        "id": "kVeqKOdSqzse",
        "outputId": "e72c0076-9af5-4346-8b5f-cbbe23f6364d"
      },
      "outputs": [
        {
          "name": "stdout",
          "output_type": "stream",
          "text": [
            "\n",
            "Sentence Tokenization:\n",
            " ['Tokenization is the first step in text analytics.', 'The process of breaking down a text paragraph into smaller chunks such as words or sentences is called Tokenization.']\n"
          ]
        }
      ],
      "source": [
        "# ------------------------\n",
        "# 📚 3. Tokenization\n",
        "# ------------------------\n",
        "\n",
        "# Sentence Tokenization\n",
        "sent_tokens = sent_tokenize(text)\n",
        "print(\"\\nSentence Tokenization:\\n\", sent_tokens)"
      ]
    },
    {
      "cell_type": "code",
      "execution_count": 6,
      "metadata": {
        "colab": {
          "base_uri": "https://localhost:8080/"
        },
        "id": "5B2LjqlhrIeg",
        "outputId": "65e21507-1fc6-4077-d3a5-f8e64594625b"
      },
      "outputs": [
        {
          "name": "stdout",
          "output_type": "stream",
          "text": [
            "\n",
            "Word Tokenization:\n",
            " ['Tokenization', 'is', 'the', 'first', 'step', 'in', 'text', 'analytics', '.', 'The', 'process', 'of', 'breaking', 'down', 'a', 'text', 'paragraph', 'into', 'smaller', 'chunks', 'such', 'as', 'words', 'or', 'sentences', 'is', 'called', 'Tokenization', '.']\n"
          ]
        }
      ],
      "source": [
        "# Word Tokenization\n",
        "word_tokens = word_tokenize(text)\n",
        "print(\"\\nWord Tokenization:\\n\", word_tokens)\n"
      ]
    },
    {
      "cell_type": "code",
      "execution_count": 7,
      "metadata": {
        "colab": {
          "base_uri": "https://localhost:8080/"
        },
        "id": "KbeFDrfdrOrG",
        "outputId": "b8ae425f-4e1e-4331-d728-00ddcedba887"
      },
      "outputs": [
        {
          "name": "stdout",
          "output_type": "stream",
          "text": [
            "\n",
            "POS Tagging:\n",
            " [('Tokenization', 'NN'), ('is', 'VBZ'), ('the', 'DT'), ('first', 'JJ'), ('step', 'NN'), ('in', 'IN'), ('text', 'JJ'), ('analytics', 'NNS'), ('.', '.'), ('The', 'DT'), ('process', 'NN'), ('of', 'IN'), ('breaking', 'VBG'), ('down', 'RP'), ('a', 'DT'), ('text', 'NN'), ('paragraph', 'NN'), ('into', 'IN'), ('smaller', 'JJR'), ('chunks', 'NNS'), ('such', 'JJ'), ('as', 'IN'), ('words', 'NNS'), ('or', 'CC'), ('sentences', 'NNS'), ('is', 'VBZ'), ('called', 'VBN'), ('Tokenization', 'NN'), ('.', '.')]\n"
          ]
        }
      ],
      "source": [
        "# ------------------------\n",
        "# 📚 4. POS Tagging (Part of Speech Tagging)\n",
        "# ------------------------\n",
        "\n",
        "pos_tags = nltk.pos_tag(word_tokens)\n",
        "print(\"\\nPOS Tagging:\\n\", pos_tags)"
      ]
    },
    {
      "cell_type": "code",
      "execution_count": 8,
      "metadata": {
        "id": "uCqwNmB_rSWu"
      },
      "outputs": [],
      "source": [
        "# ------------------------\n",
        "# 📚 5. Stopwords Removal\n",
        "# ------------------------\n",
        "\n",
        "stop_words = set(stopwords.words(\"english\"))\n"
      ]
    },
    {
      "cell_type": "code",
      "execution_count": 9,
      "metadata": {
        "id": "vLnbqZ5ZrT7N"
      },
      "outputs": [],
      "source": [
        "# Remove punctuations and lowercase\n",
        "text_clean = re.sub(r'[^a-zA-Z]', ' ', text)\n",
        "tokens = word_tokenize(text_clean.lower())"
      ]
    },
    {
      "cell_type": "code",
      "execution_count": 10,
      "metadata": {
        "colab": {
          "base_uri": "https://localhost:8080/"
        },
        "id": "odwSnrkZrWAH",
        "outputId": "a56da6ec-7dfd-411b-90f6-5bf118cfc8d8"
      },
      "outputs": [
        {
          "name": "stdout",
          "output_type": "stream",
          "text": [
            "\n",
            "After Stopwords Removal:\n",
            " ['Tokenization', 'first', 'step', 'text', 'analytics', '.', 'The', 'process', 'breaking', 'text', 'paragraph', 'smaller', 'chunks', 'words', 'sentences', 'called', 'Tokenization', '.']\n"
          ]
        }
      ],
      "source": [
        "# Remove stopwords\n",
        "filtered_words = [w for w in word_tokens if w not in stop_words]\n",
        "print(\"\\nAfter Stopwords Removal:\\n\", filtered_words)"
      ]
    },
    {
      "cell_type": "code",
      "execution_count": 11,
      "metadata": {
        "colab": {
          "base_uri": "https://localhost:8080/"
        },
        "id": "vZIC_yF8rbU_",
        "outputId": "50d75243-b5ab-40d8-81a2-1dc4218e59b9"
      },
      "outputs": [
        {
          "name": "stdout",
          "output_type": "stream",
          "text": [
            "\n",
            "After Stemming:\n",
            " ['token', 'first', 'step', 'text', 'analyt', '.', 'the', 'process', 'break', 'text', 'paragraph', 'smaller', 'chunk', 'word', 'sentenc', 'call', 'token', '.']\n"
          ]
        }
      ],
      "source": [
        "# ------------------------\n",
        "# 📚 6. Stemming\n",
        "# ------------------------\n",
        "\n",
        "ps = PorterStemmer()\n",
        "stemmed_words = [ps.stem(word) for word in filtered_words]\n",
        "print(\"\\nAfter Stemming:\\n\", stemmed_words)"
      ]
    },
    {
      "cell_type": "code",
      "execution_count": 12,
      "metadata": {
        "colab": {
          "base_uri": "https://localhost:8080/"
        },
        "id": "-3cCIdMbrcdz",
        "outputId": "e8df28a4-545b-4d45-81b2-7fc83964a281"
      },
      "outputs": [
        {
          "name": "stdout",
          "output_type": "stream",
          "text": [
            "\n",
            "After Lemmatization:\n",
            " ['Tokenization', 'first', 'step', 'text', 'analytics', '.', 'The', 'process', 'breaking', 'text', 'paragraph', 'smaller', 'chunk', 'word', 'sentence', 'called', 'Tokenization', '.']\n"
          ]
        }
      ],
      "source": [
        "# ------------------------\n",
        "# 📚 7. Lemmatization\n",
        "# ------------------------\n",
        "\n",
        "lemmatizer = WordNetLemmatizer()\n",
        "lemmatized_words = [lemmatizer.lemmatize(word) for word in filtered_words]\n",
        "print(\"\\nAfter Lemmatization:\\n\", lemmatized_words)"
      ]
    },
    {
      "cell_type": "code",
      "execution_count": 13,
      "metadata": {
        "id": "ZPKgtp51rf4B"
      },
      "outputs": [],
      "source": [
        "# 📚 8. Document Representation - TF, IDF, TF-IDF\n",
        "# --------------------------------------------------\n",
        "\n",
        "# Sample Documents\n",
        "documentA = \"Jupiter is the largest Planet\"\n",
        "documentB = \"Mars is the fourth planet from the Sun\""
      ]
    },
    {
      "cell_type": "code",
      "execution_count": 14,
      "metadata": {
        "id": "7zqvu0d3rn0S"
      },
      "outputs": [],
      "source": [
        "# Preprocess Documents: lowercase, remove punctuation, remove stopwords\n",
        "def preprocess_text(text):\n",
        "    text = re.sub(r'[^a-zA-Z]', ' ', text)  # Remove special characters\n",
        "    tokens = word_tokenize(text.lower())\n",
        "    stop_words = set(stopwords.words('english'))\n",
        "    filtered_tokens = [w for w in tokens if w not in stop_words]\n",
        "    return \" \".join(filtered_tokens)\n",
        "\n",
        "docA_processed = preprocess_text(documentA)\n",
        "docB_processed = preprocess_text(documentB)\n"
      ]
    },
    {
      "cell_type": "code",
      "execution_count": 15,
      "metadata": {
        "colab": {
          "base_uri": "https://localhost:8080/"
        },
        "id": "zzQOJR4LrqD3",
        "outputId": "61dcbc08-352f-4407-f620-bdf93fd356c3"
      },
      "outputs": [
        {
          "name": "stdout",
          "output_type": "stream",
          "text": [
            "\n",
            "Preprocessed Document A:\n",
            " jupiter largest planet\n"
          ]
        }
      ],
      "source": [
        "print(\"\\nPreprocessed Document A:\\n\", docA_processed)"
      ]
    },
    {
      "cell_type": "code",
      "execution_count": 16,
      "metadata": {
        "colab": {
          "base_uri": "https://localhost:8080/"
        },
        "id": "Ti1hg34MrrkV",
        "outputId": "d5aa8bd0-9953-4b3b-fe05-fd7a99a3c601"
      },
      "outputs": [
        {
          "name": "stdout",
          "output_type": "stream",
          "text": [
            "\n",
            "Preprocessed Document B:\n",
            " mars fourth planet sun\n"
          ]
        }
      ],
      "source": [
        "print(\"\\nPreprocessed Document B:\\n\", docB_processed)"
      ]
    },
    {
      "cell_type": "code",
      "execution_count": 17,
      "metadata": {
        "id": "7WrEECQgrt-c"
      },
      "outputs": [],
      "source": [
        "# Create TF-IDF Model\n",
        "vectorizer = TfidfVectorizer()\n",
        "tfidf_matrix = vectorizer.fit_transform([docA_processed, docB_processed])"
      ]
    },
    {
      "cell_type": "code",
      "execution_count": 18,
      "metadata": {
        "colab": {
          "base_uri": "https://localhost:8080/"
        },
        "id": "Em8wXPbDrv0U",
        "outputId": "ecbafc1e-080b-4052-a756-8c23a2111cc0"
      },
      "outputs": [
        {
          "name": "stdout",
          "output_type": "stream",
          "text": [
            "\n",
            "TF-IDF Matrix:\n",
            "      fourth   jupiter   largest      mars    planet       sun\n",
            "0  0.000000  0.631667  0.631667  0.000000  0.449436  0.000000\n",
            "1  0.534046  0.000000  0.000000  0.534046  0.379978  0.534046\n"
          ]
        }
      ],
      "source": [
        "# Show TF-IDF Matrix\n",
        "df_tfidf = pd.DataFrame(tfidf_matrix.toarray(), columns=vectorizer.get_feature_names_out())\n",
        "print(\"\\nTF-IDF Matrix:\\n\", df_tfidf)"
      ]
    },
    {
      "cell_type": "markdown",
      "metadata": {
        "id": "RG8LbxvYzhk8"
      },
      "source": [
        "\n",
        "---\n",
        "\n",
        "# 📚 PRACTICAL 7 — THEORY EXPLANATION (Line-by-Line Meaning)\n",
        "\n",
        "---\n",
        "\n",
        "## 1. **Import Libraries**\n",
        "\n",
        "```python\n",
        "import nltk\n",
        "import re\n",
        "import pandas as pd\n",
        "from nltk.tokenize import sent_tokenize, word_tokenize\n",
        "from nltk.corpus import stopwords\n",
        "from nltk.stem import PorterStemmer, WordNetLemmatizer\n",
        "from sklearn.feature_extraction.text import TfidfVectorizer\n",
        "```\n",
        "\n",
        "| Line | Meaning | Why it is used |\n",
        "|:---|:---|:---|\n",
        "| `import nltk` | Import the Natural Language Toolkit library | To perform text preprocessing tasks like tokenization, stopwords removal, stemming, lemmatization |\n",
        "| `import re` | Import Regular Expression module | To clean text and remove unwanted characters like punctuation |\n",
        "| `import pandas as pd` | Import pandas library | To organize TF-IDF scores into a table format |\n",
        "| `from nltk.tokenize import sent_tokenize, word_tokenize` | Import tokenization methods | To split text into sentences and words |\n",
        "| `from nltk.corpus import stopwords` | Import English stopwords list | To remove commonly occurring useless words |\n",
        "| `from nltk.stem import PorterStemmer, WordNetLemmatizer` | Import stemming and lemmatization classes | To normalize words to their root/base form |\n",
        "| `from sklearn.feature_extraction.text import TfidfVectorizer` | Import TF-IDF tool from scikit-learn | To automatically calculate TF-IDF scores |\n",
        "\n",
        "---\n",
        "\n",
        "## 2. **Download NLTK Resources**\n",
        "\n",
        "```python\n",
        "nltk.download('punkt')\n",
        "nltk.download('stopwords')\n",
        "nltk.download('wordnet')\n",
        "nltk.download('averaged_perceptron_tagger')\n",
        "```\n",
        "\n",
        "| Line | Meaning | Why it is used |\n",
        "|:---|:---|:---|\n",
        "| `nltk.download('punkt')` | Download tokenizer models | Needed for sentence and word tokenization |\n",
        "| `nltk.download('stopwords')` | Download stopword list | Needed to remove stopwords |\n",
        "| `nltk.download('wordnet')` | Download WordNet database | Needed for lemmatization |\n",
        "| `nltk.download('averaged_perceptron_tagger')` | Download POS tagging model | Needed to tag words with parts of speech |\n",
        "\n",
        "---\n",
        "\n",
        "## 3. **Text Preprocessing (Input Text)**\n",
        "\n",
        "```python\n",
        "text = \"\"\"Tokenization is the first step in text analytics...\"\"\"\n",
        "```\n",
        "\n",
        "| Line | Meaning | Why it is used |\n",
        "|:---|:---|:---|\n",
        "| `text = \"\"\"....\"\"\"` | Define sample paragraph for analysis | To apply all preprocessing steps on this input |\n",
        "\n",
        "---\n",
        "\n",
        "## 4. **Tokenization**\n",
        "\n",
        "```python\n",
        "sent_tokens = sent_tokenize(text)\n",
        "word_tokens = word_tokenize(text)\n",
        "```\n",
        "\n",
        "| Line | Meaning | Why it is used |\n",
        "|:---|:---|:---|\n",
        "| `sent_tokens = sent_tokenize(text)` | Break paragraph into sentences | To understand structure sentence-wise |\n",
        "| `word_tokens = word_tokenize(text)` | Break paragraph into words | To process each word individually |\n",
        "\n",
        "---\n",
        "\n",
        "## 5. **POS Tagging**\n",
        "\n",
        "```python\n",
        "pos_tags = nltk.pos_tag(word_tokens)\n",
        "```\n",
        "\n",
        "| Line | Meaning | Why it is used |\n",
        "|:---|:---|:---|\n",
        "| `pos_tags = nltk.pos_tag(word_tokens)` | Assign part of speech (noun, verb, adjective) to each word | To understand the grammatical role of each word |\n",
        "\n",
        "---\n",
        "\n",
        "## 6. **Stopwords Removal**\n",
        "\n",
        "```python\n",
        "stop_words = set(stopwords.words(\"english\"))\n",
        "text_clean = re.sub(r'[^a-zA-Z]', ' ', text)\n",
        "tokens = word_tokenize(text_clean.lower())\n",
        "filtered_words = [w for w in tokens if w not in stop_words]\n",
        "```\n",
        "\n",
        "| Line | Meaning | Why it is used |\n",
        "|:---|:---|:---|\n",
        "| `stop_words = set(stopwords.words(\"english\"))` | Load list of common English stopwords | To filter out words like \"is\", \"the\", \"an\" |\n",
        "| `text_clean = re.sub(r'[^a-zA-Z]', ' ', text)` | Remove punctuation and non-letter characters | To clean text before further processing |\n",
        "| `tokens = word_tokenize(text_clean.lower())` | Tokenize cleaned, lowercased text | To split cleaned text into words |\n",
        "| `filtered_words = [w for w in tokens if w not in stop_words]` | Remove stopwords from tokens | To keep only meaningful words |\n",
        "\n",
        "---\n",
        "\n",
        "## 7. **Stemming**\n",
        "\n",
        "```python\n",
        "ps = PorterStemmer()\n",
        "stemmed_words = [ps.stem(word) for word in filtered_words]\n",
        "```\n",
        "\n",
        "| Line | Meaning | Why it is used |\n",
        "|:---|:---|:---|\n",
        "| `ps = PorterStemmer()` | Create a stemmer object | To perform stemming operation |\n",
        "| `stemmed_words = [ps.stem(word) for word in filtered_words]` | Stem each word to its root | To reduce word variations (waited → wait) |\n",
        "\n",
        "---\n",
        "\n",
        "## 8. **Lemmatization**\n",
        "\n",
        "```python\n",
        "lemmatizer = WordNetLemmatizer()\n",
        "lemmatized_words = [lemmatizer.lemmatize(word) for word in filtered_words]\n",
        "```\n",
        "\n",
        "| Line | Meaning | Why it is used |\n",
        "|:---|:---|:---|\n",
        "| `lemmatizer = WordNetLemmatizer()` | Create a lemmatizer object | To find dictionary form (lemma) of each word |\n",
        "| `lemmatized_words = [lemmatizer.lemmatize(word) for word in filtered_words]` | Lemmatize each word | To perform more intelligent word normalization |\n",
        "\n",
        "---\n",
        "\n",
        "## 9. **TF-IDF Calculation**\n",
        "\n",
        "### Step 1: Preprocessing Documents\n",
        "\n",
        "```python\n",
        "def preprocess_text(text):\n",
        "    text = re.sub(r'[^a-zA-Z]', ' ', text)\n",
        "    tokens = word_tokenize(text.lower())\n",
        "    stop_words = set(stopwords.words('english'))\n",
        "    filtered_tokens = [w for w in tokens if w not in stop_words]\n",
        "    return \" \".join(filtered_tokens)\n",
        "```\n",
        "\n",
        "| Line | Meaning | Why it is used |\n",
        "|:---|:---|:---|\n",
        "| `def preprocess_text(text):` | Define a cleaning function | To reuse cleaning steps |\n",
        "| `text = re.sub(r'[^a-zA-Z]', ' ', text)` | Remove punctuations | Text becomes alphabetic |\n",
        "| `tokens = word_tokenize(text.lower())` | Tokenize and lowercase text | Uniform processing |\n",
        "| `filtered_tokens = [w for w in tokens if w not in stop_words]` | Remove stopwords | Keep only useful words |\n",
        "| `return \" \".join(filtered_tokens)` | Join tokens back to text | Final cleaned document |\n",
        "\n",
        "---\n",
        "\n",
        "### Step 2: Apply Preprocessing\n",
        "\n",
        "```python\n",
        "docA_processed = preprocess_text(documentA)\n",
        "docB_processed = preprocess_text(documentB)\n",
        "```\n",
        "\n",
        "| Line | Meaning | Why it is used |\n",
        "|:---|:---|:---|\n",
        "| `docA_processed = preprocess_text(documentA)` | Clean Document A | Prepare for TF-IDF |\n",
        "| `docB_processed = preprocess_text(documentB)` | Clean Document B | Prepare for TF-IDF |\n",
        "\n",
        "---\n",
        "\n",
        "### Step 3: Generate TF-IDF Matrix\n",
        "\n",
        "```python\n",
        "vectorizer = TfidfVectorizer()\n",
        "tfidf_matrix = vectorizer.fit_transform([docA_processed, docB_processed])\n",
        "```\n",
        "\n",
        "| Line | Meaning | Why it is used |\n",
        "|:---|:---|:---|\n",
        "| `vectorizer = TfidfVectorizer()` | Create a TF-IDF vectorizer object | To calculate TF-IDF scores |\n",
        "| `tfidf_matrix = vectorizer.fit_transform([...])` | Apply TF-IDF transformation | Create numerical representation of documents |\n",
        "\n",
        "---\n",
        "\n",
        "### Step 4: Display TF-IDF Table\n",
        "\n",
        "```python\n",
        "df_tfidf = pd.DataFrame(tfidf_matrix.toarray(), columns=vectorizer.get_feature_names_out())\n",
        "```\n",
        "\n",
        "| Line | Meaning | Why it is used |\n",
        "|:---|:---|:---|\n",
        "| `df_tfidf = pd.DataFrame(tfidf_matrix.toarray(), columns=...)` | Create a readable table showing TF-IDF values for each word | Easy to analyze importance of words |\n",
        "\n",
        "---\n",
        "\n",
        "# 📚 CONCLUSION (Important Viva Answer)\n",
        "✅ We have successfully performed:\n",
        "- Text Preprocessing (tokenization, stopwords removal, stemming, lemmatization, POS tagging).\n",
        "- Created a **numerical representation** of text documents using **TF-IDF**.\n",
        "- Final output was a **TF-IDF matrix** showing the weightage of important words.\n",
        "\n",
        "\n"
      ]
    }
  ],
  "metadata": {
    "colab": {
      "provenance": []
    },
    "kernelspec": {
      "display_name": "Python 3",
      "name": "python3"
    },
    "language_info": {
      "codemirror_mode": {
        "name": "ipython",
        "version": 3
      },
      "file_extension": ".py",
      "mimetype": "text/x-python",
      "name": "python",
      "nbconvert_exporter": "python",
      "pygments_lexer": "ipython3",
      "version": "3.13.0"
    }
  },
  "nbformat": 4,
  "nbformat_minor": 0
}
